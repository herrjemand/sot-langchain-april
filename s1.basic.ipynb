{
 "cells": [
  {
   "cell_type": "code",
   "execution_count": 1,
   "metadata": {},
   "outputs": [
    {
     "data": {
      "text/plain": [
       "True"
      ]
     },
     "execution_count": 1,
     "metadata": {},
     "output_type": "execute_result"
    }
   ],
   "source": [
    "from dotenv import load_dotenv\n",
    "load_dotenv(dotenv_path='.env')"
   ]
  },
  {
   "cell_type": "code",
   "execution_count": 2,
   "metadata": {},
   "outputs": [],
   "source": [
    "from langchain_openai import OpenAIEmbeddings, ChatOpenAI\n",
    "from langchain_community.chat_models import ChatOllama\n",
    "from langchain_community.embeddings import OllamaEmbeddings "
   ]
  },
  {
   "cell_type": "code",
   "execution_count": 3,
   "metadata": {},
   "outputs": [],
   "source": [
    "# ----- OpenAI ----- #\n",
    "chat_model = ChatOpenAI()\n",
    "embeddings = OpenAIEmbeddings()\n",
    "\n",
    "# ----- Ollama ----- #\n",
    "# chat_model = ChatOllama()\n",
    "# embeddings = OllamaEmbeddings()"
   ]
  },
  {
   "cell_type": "markdown",
   "metadata": {},
   "source": [
    "# Basic basics\n",
    "\n",
    "Just invoking basic invoke(predict)\n",
    "\n",
    "> Note: .invoke() has replaced .predict()"
   ]
  },
  {
   "cell_type": "code",
   "execution_count": 4,
   "metadata": {},
   "outputs": [
    {
     "data": {
      "text/plain": [
       "AIMessage(content=\"Hello! I'm just a computer program, so I don't have feelings, but I'm here to help you. How can I assist you today?\", response_metadata={'token_usage': {'completion_tokens': 31, 'prompt_tokens': 13, 'total_tokens': 44}, 'model_name': 'gpt-3.5-turbo', 'system_fingerprint': 'fp_b28b39ffa8', 'finish_reason': 'stop', 'logprobs': None}, id='run-5dee81ef-ae13-41c1-80a4-1dd708bda8f3-0')"
      ]
     },
     "execution_count": 4,
     "metadata": {},
     "output_type": "execute_result"
    }
   ],
   "source": [
    "chat_model.invoke(\"Hello, how are you?\")\n"
   ]
  },
  {
   "cell_type": "code",
   "execution_count": 5,
   "metadata": {},
   "outputs": [
    {
     "data": {
      "text/plain": [
       "AIMessage(content='The answer to the ultimate question of life, the universe, and everything is 42, according to Douglas Adams\\' book \"The Hitchhiker\\'s Guide to the Galaxy.\" However, in reality, the reason for existence is a complex and philosophical question that has been pondered by humans for centuries. Some believe in religious or spiritual explanations, while others see life as a result of random chance and natural processes. Ultimately, the reason for existence may vary depending on individual beliefs and perspectives.', response_metadata={'token_usage': {'completion_tokens': 97, 'prompt_tokens': 19, 'total_tokens': 116}, 'model_name': 'gpt-3.5-turbo', 'system_fingerprint': 'fp_b28b39ffa8', 'finish_reason': 'stop', 'logprobs': None}, id='run-bc8ce9df-135a-4870-9efb-8488c354bcf1-0')"
      ]
     },
     "execution_count": 5,
     "metadata": {},
     "output_type": "execute_result"
    }
   ],
   "source": [
    "chat_model.invoke(\"What is the reason of life, universe, and everything?\")"
   ]
  },
  {
   "cell_type": "markdown",
   "metadata": {},
   "source": [
    "# Basic chain\n",
    "\n",
    "Chain is a way to create a sequence of operations. It is a way to create a pipeline of operations."
   ]
  },
  {
   "cell_type": "code",
   "execution_count": 6,
   "metadata": {},
   "outputs": [],
   "source": [
    "from langchain.chains import LLMChain, ConversationChain\n",
    "from langchain.prompts import PromptTemplate"
   ]
  },
  {
   "cell_type": "code",
   "execution_count": 7,
   "metadata": {},
   "outputs": [
    {
     "name": "stdout",
     "output_type": "stream",
     "text": [
      "\n",
      "\n",
      "\u001b[1m> Entering new ConversationChain chain...\u001b[0m\n",
      "Prompt after formatting:\n",
      "\u001b[32;1m\u001b[1;3mThe following is a friendly conversation between a human and an AI. The AI is talkative and provides lots of specific details from its context. If the AI does not know the answer to a question, it truthfully says it does not know.\n",
      "\n",
      "Current conversation:\n",
      "\n",
      "Human: How is it going?\n",
      "AI:\u001b[0m\n",
      "\n",
      "\u001b[1m> Finished chain.\u001b[0m\n"
     ]
    },
    {
     "data": {
      "text/plain": [
       "{'input': 'How is it going?',\n",
       " 'history': '',\n",
       " 'response': \"Hello! I'm doing well, thank you for asking. I've been processing a lot of information and learning new things. How about you, how are you doing today?\"}"
      ]
     },
     "execution_count": 7,
     "metadata": {},
     "output_type": "execute_result"
    }
   ],
   "source": [
    "conversation_chain = ConversationChain(\n",
    "    llm=chat_model,\n",
    "    verbose=True\n",
    ")\n",
    "\n",
    "# .run() was replaced with .invoke()\n",
    "\n",
    "conversation_chain.invoke(\"How is it going?\")"
   ]
  },
  {
   "cell_type": "code",
   "execution_count": 8,
   "metadata": {},
   "outputs": [
    {
     "name": "stdout",
     "output_type": "stream",
     "text": [
      "\n",
      "\n",
      "\u001b[1m> Entering new ConversationChain chain...\u001b[0m\n",
      "Prompt after formatting:\n",
      "\u001b[32;1m\u001b[1;3mThe following is a friendly conversation between a human and an AI. The AI is talkative and provides lots of specific details from its context. If the AI does not know the answer to a question, it truthfully says it does not know.\n",
      "\n",
      "Current conversation:\n",
      "Human: How is it going?\n",
      "AI: Hello! I'm doing well, thank you for asking. I've been processing a lot of information and learning new things. How about you, how are you doing today?\n",
      "Human: What was my question again?\n",
      "AI:\u001b[0m\n",
      "\n",
      "\u001b[1m> Finished chain.\u001b[0m\n"
     ]
    },
    {
     "data": {
      "text/plain": [
       "{'input': 'What was my question again?',\n",
       " 'history': \"Human: How is it going?\\nAI: Hello! I'm doing well, thank you for asking. I've been processing a lot of information and learning new things. How about you, how are you doing today?\",\n",
       " 'response': 'Your question was \"How is it going?\"'}"
      ]
     },
     "execution_count": 8,
     "metadata": {},
     "output_type": "execute_result"
    }
   ],
   "source": [
    "conversation_chain.invoke(\"What was my question again?\")"
   ]
  },
  {
   "cell_type": "code",
   "execution_count": 18,
   "metadata": {},
   "outputs": [
    {
     "data": {
      "text/plain": [
       "'Ah, the meaning of life, a question so deep. To find it, look within, not just what you reap. A journey it is, filled with twists and turns. Seek joy and love, and the answer you shall learn.'"
      ]
     },
     "execution_count": 18,
     "metadata": {},
     "output_type": "execute_result"
    }
   ],
   "source": [
    "from langchain.prompts import ChatPromptTemplate, SystemMessagePromptTemplate, HumanMessagePromptTemplate, ChatMessagePromptTemplate\n",
    "\n",
    "\n",
    "yoda_chain = LLMChain(\n",
    "    llm=chat_model,\n",
    "    prompt=PromptTemplate.from_template(\"You are a helpful assistant that speaks in riddles, like Master Yoda. {input}\")\n",
    ")\n",
    "\n",
    "yoda_chain.run(\"What is the meaning of life?\")"
   ]
  },
  {
   "cell_type": "markdown",
   "metadata": {},
   "source": [
    "# Simple sequencing"
   ]
  },
  {
   "cell_type": "code",
   "execution_count": 21,
   "metadata": {},
   "outputs": [
    {
     "name": "stdout",
     "output_type": "stream",
     "text": [
      "\n",
      "\n",
      "\u001b[1m> Entering new SimpleSequentialChain chain...\u001b[0m\n",
      "\u001b[36;1m\u001b[1;3mInternships in the tech industry are a valuable opportunity for students and recent graduates to gain hands-on experience, develop new skills, and network with professionals in the field. With the rapid advancement of technology, the demand for skilled workers in the tech industry is higher than ever, making internships a crucial stepping stone for those looking to break into the field.\n",
      "\n",
      "Tech internships offer a wide range of opportunities for students to explore different areas of the industry, from software development and data analysis to cybersecurity and artificial intelligence. Interns may have the chance to work on real projects, collaborate with experienced professionals, and learn about the latest trends and technologies shaping the industry.\n",
      "\n",
      "One of the key benefits of tech internships is the potential for career advancement. Many companies use internships as a way to identify and groom top talent for future full-time positions. By excelling in their internship roles, interns can increase their chances of being offered a permanent position at the company or using their experience to land a job at another tech company in the future.\n",
      "\n",
      "In addition to gaining valuable technical skills, tech internships also provide opportunities for personal and professional growth. Interns can improve their communication and problem-solving skills, learn how to work effectively in a team, and develop a strong work ethic that will serve them well in their future careers.\n",
      "\n",
      "Overall, internships in the tech industry are a valuable opportunity for students and recent graduates to gain practical experience, build their professional network, and kickstart their careers in one of the most dynamic and fast-paced industries in the world. Whether you're a computer science major, a data science enthusiast, or a cybersecurity expert, a tech internship can help you take your skills to the next level and pave the way for a successful career in the field.\u001b[0m\n",
      "\u001b[33;1m\u001b[1;3mIn the tech industry, internships hold great value,\n",
      "A chance to learn, grow, and skills to display.\n",
      "With technology advancing at a rapid pace,\n",
      "Interns have the opportunity to keep up with the race.\n",
      "\n",
      "From software development to data analysis and more,\n",
      "Interns can explore different areas to soar.\n",
      "Working on real projects and collaborating with pros,\n",
      "Tech internships provide experiences that truly glow.\n",
      "\n",
      "Career advancement is a potential reward,\n",
      "For interns who excel and strike the right chord.\n",
      "Developing skills and a strong work ethic too,\n",
      "Tech internships pave the way for a successful breakthrough.\n",
      "\n",
      "Personal and professional growth, they also bring,\n",
      "Improving communication and problem-solving is the thing.\n",
      "In the dynamic world of tech, interns can thrive,\n",
      "Building a network and skills to truly drive.\n",
      "\n",
      "So for students and graduates looking to start,\n",
      "A tech internship can set you apart.\n",
      "Take the opportunity, seize the day,\n",
      "And let your tech career come what may.\u001b[0m\n",
      "\n",
      "\u001b[1m> Finished chain.\u001b[0m\n"
     ]
    }
   ],
   "source": [
    "from langchain.chains import SimpleSequentialChain\n",
    "\n",
    "title_chain = LLMChain(\n",
    "    llm=chat_model,\n",
    "    prompt=PromptTemplate.from_template(\"Generate article title based on user input. {input}\")\n",
    ")\n",
    "\n",
    "chain = SimpleSequentialChain(\n",
    "    chains=[title_chain, yoda_chain],\n",
    "    verbose=True,\n",
    ")\n",
    "\n",
    "chain = chain.run(\"Internships in the tech industry\")"
   ]
  }
 ],
 "metadata": {
  "kernelspec": {
   "display_name": "venv",
   "language": "python",
   "name": "python3"
  },
  "language_info": {
   "codemirror_mode": {
    "name": "ipython",
    "version": 3
   },
   "file_extension": ".py",
   "mimetype": "text/x-python",
   "name": "python",
   "nbconvert_exporter": "python",
   "pygments_lexer": "ipython3",
   "version": "3.10.13"
  }
 },
 "nbformat": 4,
 "nbformat_minor": 2
}
